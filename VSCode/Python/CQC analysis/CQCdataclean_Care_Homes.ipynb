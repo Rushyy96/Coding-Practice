{
 "cells": [
  {
   "cell_type": "code",
   "execution_count": 25,
   "metadata": {},
   "outputs": [],
   "source": [
    "import pandas as pd \n",
    "import numpy as np"
   ]
  },
  {
   "cell_type": "code",
   "execution_count": 26,
   "metadata": {},
   "outputs": [
    {
     "name": "stderr",
     "output_type": "stream",
     "text": [
      "C:\\Users\\jackr\\AppData\\Local\\Temp\\ipykernel_19264\\268577142.py:1: DtypeWarning: Columns (78,88,96) have mixed types. Specify dtype option on import or set low_memory=False.\n",
      "  df = pd.read_csv('CQCnewdata.csv')\n"
     ]
    }
   ],
   "source": [
    "df = pd.read_csv('CQCnewdata.csv')"
   ]
  },
  {
   "cell_type": "code",
   "execution_count": 27,
   "metadata": {},
   "outputs": [],
   "source": [
    "df = df.loc[df['Care home?'] == 'Y']"
   ]
  },
  {
   "cell_type": "code",
   "execution_count": 28,
   "metadata": {},
   "outputs": [],
   "source": [
    "df = df.iloc[:,0:60]"
   ]
  },
  {
   "cell_type": "code",
   "execution_count": 29,
   "metadata": {},
   "outputs": [],
   "source": [
    "df = df.loc[df['Dormant (Y/N)'] == 'N']"
   ]
  },
  {
   "cell_type": "code",
   "execution_count": 30,
   "metadata": {},
   "outputs": [],
   "source": [
    "list1 = [0, 2, 3, 5, 8, 10, 11, 12, 15, 19, 21, 22, 23, 24, 28, 29, 33, 35, 36, 37, 38, 40, 41, 42, 43, 45, 46, 47, 51, 52, 59]\n"
   ]
  },
  {
   "cell_type": "code",
   "execution_count": 31,
   "metadata": {},
   "outputs": [],
   "source": [
    "df.drop(df.columns[(list1)], axis=1, inplace=True)"
   ]
  },
  {
   "cell_type": "code",
   "execution_count": 32,
   "metadata": {},
   "outputs": [],
   "source": [
    "df = df.reset_index()"
   ]
  },
  {
   "cell_type": "code",
   "execution_count": 33,
   "metadata": {},
   "outputs": [],
   "source": [
    "df = df.rename(columns={\"Registered manager (note; where there is more than one manager at a location, only one is included here for ease of presentation. The full list is published at the same link as this file by further visiting the link ‘CQC register: nominated individuals, managers and regulated activities’ and using 'HSCA Registered Managers' file).\": \"Registered Manager\"})"
   ]
  },
  {
   "cell_type": "code",
   "execution_count": 34,
   "metadata": {},
   "outputs": [],
   "source": [
    "df = df.drop(columns=\"index\")"
   ]
  },
  {
   "cell_type": "code",
   "execution_count": 35,
   "metadata": {},
   "outputs": [
    {
     "data": {
      "text/html": [
       "<div>\n",
       "<style scoped>\n",
       "    .dataframe tbody tr th:only-of-type {\n",
       "        vertical-align: middle;\n",
       "    }\n",
       "\n",
       "    .dataframe tbody tr th {\n",
       "        vertical-align: top;\n",
       "    }\n",
       "\n",
       "    .dataframe thead th {\n",
       "        text-align: right;\n",
       "    }\n",
       "</style>\n",
       "<table border=\"1\" class=\"dataframe\">\n",
       "  <thead>\n",
       "    <tr style=\"text-align: right;\">\n",
       "      <th></th>\n",
       "      <th>Location HSCA start date</th>\n",
       "      <th>Location Name</th>\n",
       "      <th>Location Telephone Number</th>\n",
       "      <th>Registered Manager</th>\n",
       "      <th>Care homes beds</th>\n",
       "      <th>Location Latest Overall Rating</th>\n",
       "      <th>Publication Date</th>\n",
       "      <th>Location Region</th>\n",
       "      <th>Location NHS Region</th>\n",
       "      <th>Location Local Authority</th>\n",
       "      <th>...</th>\n",
       "      <th>Provider Telephone Number</th>\n",
       "      <th>Provider City</th>\n",
       "      <th>Provider County</th>\n",
       "      <th>Provider Postal Code</th>\n",
       "      <th>Provider Local Authority</th>\n",
       "      <th>Provider Region</th>\n",
       "      <th>Provider NHS Region</th>\n",
       "      <th>Provider Latitude</th>\n",
       "      <th>Provider Longitude</th>\n",
       "      <th>Provider Parliamentary Constituency</th>\n",
       "    </tr>\n",
       "  </thead>\n",
       "  <tbody>\n",
       "    <tr>\n",
       "      <th>0</th>\n",
       "      <td>11/12/2020</td>\n",
       "      <td>Henley House</td>\n",
       "      <td>NaN</td>\n",
       "      <td>*</td>\n",
       "      <td>66.0</td>\n",
       "      <td>Good</td>\n",
       "      <td>20/04/2022</td>\n",
       "      <td>East of England</td>\n",
       "      <td>East of England</td>\n",
       "      <td>Suffolk</td>\n",
       "      <td>...</td>\n",
       "      <td>7.908974e+09</td>\n",
       "      <td>London</td>\n",
       "      <td>NaN</td>\n",
       "      <td>EC2V 6BJ</td>\n",
       "      <td>City of London</td>\n",
       "      <td>London</td>\n",
       "      <td>London</td>\n",
       "      <td>51.514520</td>\n",
       "      <td>-0.095771</td>\n",
       "      <td>Cities of London and Westminster</td>\n",
       "    </tr>\n",
       "    <tr>\n",
       "      <th>1</th>\n",
       "      <td>18/12/2020</td>\n",
       "      <td>Charlotte House</td>\n",
       "      <td>1.516431e+09</td>\n",
       "      <td>Richards, Clare</td>\n",
       "      <td>103.0</td>\n",
       "      <td>Good</td>\n",
       "      <td>04/04/2023</td>\n",
       "      <td>North West</td>\n",
       "      <td>North West</td>\n",
       "      <td>Wirral</td>\n",
       "      <td>...</td>\n",
       "      <td>1.782861e+09</td>\n",
       "      <td>Newcastle</td>\n",
       "      <td>NaN</td>\n",
       "      <td>ST5 9QF</td>\n",
       "      <td>Staffordshire</td>\n",
       "      <td>West Midlands</td>\n",
       "      <td>Midlands</td>\n",
       "      <td>53.026424</td>\n",
       "      <td>-2.250245</td>\n",
       "      <td>Newcastle-under-Lyme</td>\n",
       "    </tr>\n",
       "    <tr>\n",
       "      <th>2</th>\n",
       "      <td>18/12/2020</td>\n",
       "      <td>Regency Care Centre</td>\n",
       "      <td>1.617962e+09</td>\n",
       "      <td>Birkett, Nichola</td>\n",
       "      <td>60.0</td>\n",
       "      <td>Good</td>\n",
       "      <td>15/07/2021</td>\n",
       "      <td>North West</td>\n",
       "      <td>North West</td>\n",
       "      <td>Bury</td>\n",
       "      <td>...</td>\n",
       "      <td>1.782861e+09</td>\n",
       "      <td>Newcastle</td>\n",
       "      <td>NaN</td>\n",
       "      <td>ST5 9QF</td>\n",
       "      <td>Staffordshire</td>\n",
       "      <td>West Midlands</td>\n",
       "      <td>Midlands</td>\n",
       "      <td>53.026424</td>\n",
       "      <td>-2.250245</td>\n",
       "      <td>Newcastle-under-Lyme</td>\n",
       "    </tr>\n",
       "    <tr>\n",
       "      <th>3</th>\n",
       "      <td>12/12/2013</td>\n",
       "      <td>Kingswood House Nursing Home</td>\n",
       "      <td>1.424716e+09</td>\n",
       "      <td>Garner, Danielle</td>\n",
       "      <td>22.0</td>\n",
       "      <td>Requires improvement</td>\n",
       "      <td>30/06/2022</td>\n",
       "      <td>South East</td>\n",
       "      <td>South East</td>\n",
       "      <td>East Sussex</td>\n",
       "      <td>...</td>\n",
       "      <td>2.089080e+09</td>\n",
       "      <td>Harrow</td>\n",
       "      <td>Middlesex</td>\n",
       "      <td>HA3 0AB</td>\n",
       "      <td>Brent</td>\n",
       "      <td>London</td>\n",
       "      <td>London</td>\n",
       "      <td>51.579062</td>\n",
       "      <td>-0.320899</td>\n",
       "      <td>Brent North</td>\n",
       "    </tr>\n",
       "    <tr>\n",
       "      <th>4</th>\n",
       "      <td>04/11/2013</td>\n",
       "      <td>Little Haven</td>\n",
       "      <td>2.084613e+09</td>\n",
       "      <td>Muriuki, Martin</td>\n",
       "      <td>15.0</td>\n",
       "      <td>Good</td>\n",
       "      <td>11/04/2018</td>\n",
       "      <td>London</td>\n",
       "      <td>London</td>\n",
       "      <td>Lewisham</td>\n",
       "      <td>...</td>\n",
       "      <td>2.031379e+09</td>\n",
       "      <td>London</td>\n",
       "      <td>NaN</td>\n",
       "      <td>SE6 3AS</td>\n",
       "      <td>Lewisham</td>\n",
       "      <td>London</td>\n",
       "      <td>London</td>\n",
       "      <td>51.440913</td>\n",
       "      <td>-0.022970</td>\n",
       "      <td>Lewisham East</td>\n",
       "    </tr>\n",
       "  </tbody>\n",
       "</table>\n",
       "<p>5 rows × 29 columns</p>\n",
       "</div>"
      ],
      "text/plain": [
       "  Location HSCA start date                 Location Name  \\\n",
       "0               11/12/2020                  Henley House   \n",
       "1               18/12/2020               Charlotte House   \n",
       "2               18/12/2020           Regency Care Centre   \n",
       "3               12/12/2013  Kingswood House Nursing Home   \n",
       "4               04/11/2013                  Little Haven   \n",
       "\n",
       "   Location Telephone Number Registered Manager  Care homes beds  \\\n",
       "0                        NaN                  *             66.0   \n",
       "1               1.516431e+09    Richards, Clare            103.0   \n",
       "2               1.617962e+09   Birkett, Nichola             60.0   \n",
       "3               1.424716e+09   Garner, Danielle             22.0   \n",
       "4               2.084613e+09    Muriuki, Martin             15.0   \n",
       "\n",
       "  Location Latest Overall Rating Publication Date  Location Region  \\\n",
       "0                           Good       20/04/2022  East of England   \n",
       "1                           Good       04/04/2023       North West   \n",
       "2                           Good       15/07/2021       North West   \n",
       "3           Requires improvement       30/06/2022       South East   \n",
       "4                           Good       11/04/2018           London   \n",
       "\n",
       "  Location NHS Region Location Local Authority  ... Provider Telephone Number  \\\n",
       "0     East of England                  Suffolk  ...              7.908974e+09   \n",
       "1          North West                   Wirral  ...              1.782861e+09   \n",
       "2          North West                     Bury  ...              1.782861e+09   \n",
       "3          South East              East Sussex  ...              2.089080e+09   \n",
       "4              London                 Lewisham  ...              2.031379e+09   \n",
       "\n",
       "  Provider City Provider County Provider Postal Code  \\\n",
       "0        London             NaN             EC2V 6BJ   \n",
       "1     Newcastle             NaN              ST5 9QF   \n",
       "2     Newcastle             NaN              ST5 9QF   \n",
       "3        Harrow       Middlesex              HA3 0AB   \n",
       "4        London             NaN              SE6 3AS   \n",
       "\n",
       "   Provider Local Authority  Provider Region Provider NHS Region  \\\n",
       "0            City of London           London              London   \n",
       "1             Staffordshire    West Midlands            Midlands   \n",
       "2             Staffordshire    West Midlands            Midlands   \n",
       "3                     Brent           London              London   \n",
       "4                  Lewisham           London              London   \n",
       "\n",
       "  Provider Latitude Provider Longitude  Provider Parliamentary Constituency  \n",
       "0         51.514520          -0.095771     Cities of London and Westminster  \n",
       "1         53.026424          -2.250245                 Newcastle-under-Lyme  \n",
       "2         53.026424          -2.250245                 Newcastle-under-Lyme  \n",
       "3         51.579062          -0.320899                          Brent North  \n",
       "4         51.440913          -0.022970                        Lewisham East  \n",
       "\n",
       "[5 rows x 29 columns]"
      ]
     },
     "execution_count": 35,
     "metadata": {},
     "output_type": "execute_result"
    }
   ],
   "source": [
    "df.head(5)"
   ]
  },
  {
   "cell_type": "code",
   "execution_count": 36,
   "metadata": {},
   "outputs": [],
   "source": [
    "df.to_csv('CleanCQCdata.csv')"
   ]
  }
 ],
 "metadata": {
  "kernelspec": {
   "display_name": "Python 3",
   "language": "python",
   "name": "python3"
  },
  "language_info": {
   "codemirror_mode": {
    "name": "ipython",
    "version": 3
   },
   "file_extension": ".py",
   "mimetype": "text/x-python",
   "name": "python",
   "nbconvert_exporter": "python",
   "pygments_lexer": "ipython3",
   "version": "3.11.2"
  },
  "orig_nbformat": 4
 },
 "nbformat": 4,
 "nbformat_minor": 2
}
