{
 "cells": [
  {
   "cell_type": "code",
   "execution_count": 61,
   "metadata": {},
   "outputs": [],
   "source": [
    "import pandas as pd\n",
    "import numpy as np\n"
   ]
  },
  {
   "cell_type": "code",
   "execution_count": 62,
   "metadata": {},
   "outputs": [
    {
     "name": "stderr",
     "output_type": "stream",
     "text": [
      "C:\\Users\\jackr\\AppData\\Local\\Temp\\ipykernel_23152\\4267981883.py:1: DtypeWarning: Columns (88,96) have mixed types. Specify dtype option on import or set low_memory=False.\n",
      "  df = pd.read_csv('CQCnewdataDC.csv')\n"
     ]
    }
   ],
   "source": [
    "df = pd.read_csv('CQCnewdataDC.csv')"
   ]
  },
  {
   "cell_type": "code",
   "execution_count": 63,
   "metadata": {},
   "outputs": [],
   "source": [
    "df = df.loc[df['Location Inspection Directorate'] == 'Adult social care'] "
   ]
  },
  {
   "cell_type": "code",
   "execution_count": 64,
   "metadata": {},
   "outputs": [],
   "source": [
    "df = df.loc[df['Provider Inspection Directorate'] == 'Adult social care']"
   ]
  },
  {
   "cell_type": "code",
   "execution_count": 65,
   "metadata": {},
   "outputs": [],
   "source": [
    "df = df.loc[df['Care home?'] == 'N']"
   ]
  },
  {
   "cell_type": "code",
   "execution_count": 66,
   "metadata": {},
   "outputs": [],
   "source": [
    "df = df.rename(columns={\"Registered manager (note; where there is more than one manager at a location, only one is included here for ease of presentation. The full list is published at the same link as this file by further visiting the link ‘CQC register: nominated individuals, managers and regulated activities’ and using 'HSCA Registered Managers' file).\": \"Registered Manager\"})"
   ]
  },
  {
   "cell_type": "code",
   "execution_count": 67,
   "metadata": {},
   "outputs": [],
   "source": [
    "df = df.iloc[:,0:60]"
   ]
  },
  {
   "cell_type": "code",
   "execution_count": 68,
   "metadata": {},
   "outputs": [],
   "source": [
    "list1 = [0, 2, 3, 5, 9, 10, 11, 12, 15, 19, 21, 22, 23, 24, 28, 29, 33, 36, 37, 38, 40, 41, 42, 43, 46, 47, 51, 52, 59]"
   ]
  },
  {
   "cell_type": "code",
   "execution_count": 69,
   "metadata": {},
   "outputs": [],
   "source": [
    "df.drop(df.columns[(list1)], axis=1, inplace=True)"
   ]
  },
  {
   "cell_type": "code",
   "execution_count": 70,
   "metadata": {},
   "outputs": [
    {
     "data": {
      "text/html": [
       "<div>\n",
       "<style scoped>\n",
       "    .dataframe tbody tr th:only-of-type {\n",
       "        vertical-align: middle;\n",
       "    }\n",
       "\n",
       "    .dataframe tbody tr th {\n",
       "        vertical-align: top;\n",
       "    }\n",
       "\n",
       "    .dataframe thead th {\n",
       "        text-align: right;\n",
       "    }\n",
       "</style>\n",
       "<table border=\"1\" class=\"dataframe\">\n",
       "  <thead>\n",
       "    <tr style=\"text-align: right;\">\n",
       "      <th></th>\n",
       "      <th>Location HSCA start date</th>\n",
       "      <th>Location Name</th>\n",
       "      <th>Location Telephone Number</th>\n",
       "      <th>Registered Manager</th>\n",
       "      <th>Location Web Address</th>\n",
       "      <th>Location Latest Overall Rating</th>\n",
       "      <th>Publication Date</th>\n",
       "      <th>Location Region</th>\n",
       "      <th>Location NHS Region</th>\n",
       "      <th>Location Local Authority</th>\n",
       "      <th>...</th>\n",
       "      <th>Provider Web Address</th>\n",
       "      <th>Provider City</th>\n",
       "      <th>Provider County</th>\n",
       "      <th>Provider Postal Code</th>\n",
       "      <th>Provider Local Authority</th>\n",
       "      <th>Provider Region</th>\n",
       "      <th>Provider NHS Region</th>\n",
       "      <th>Provider Latitude</th>\n",
       "      <th>Provider Longitude</th>\n",
       "      <th>Provider Parliamentary Constituency</th>\n",
       "    </tr>\n",
       "  </thead>\n",
       "  <tbody>\n",
       "    <tr>\n",
       "      <th>2</th>\n",
       "      <td>09/12/2020</td>\n",
       "      <td>Orchids Care</td>\n",
       "      <td>7.738719e+09</td>\n",
       "      <td>Robson, Sarah</td>\n",
       "      <td>www.orchids-care.co.uk</td>\n",
       "      <td>Good</td>\n",
       "      <td>15/07/2022</td>\n",
       "      <td>Yorkshire and The Humber</td>\n",
       "      <td>North East and Yorkshire</td>\n",
       "      <td>Doncaster</td>\n",
       "      <td>...</td>\n",
       "      <td>www.orchids-care.co.uk</td>\n",
       "      <td>Doncaster</td>\n",
       "      <td>South Yorkshire</td>\n",
       "      <td>DN4 9PE</td>\n",
       "      <td>Doncaster</td>\n",
       "      <td>Yorkshire and The Humber</td>\n",
       "      <td>North East and Yorkshire</td>\n",
       "      <td>53.502269</td>\n",
       "      <td>-1.178813</td>\n",
       "      <td>Don Valley</td>\n",
       "    </tr>\n",
       "    <tr>\n",
       "      <th>17</th>\n",
       "      <td>09/12/2020</td>\n",
       "      <td>Stivic Care Services Ltd</td>\n",
       "      <td>NaN</td>\n",
       "      <td>Odili, Peter</td>\n",
       "      <td>NaN</td>\n",
       "      <td>Good</td>\n",
       "      <td>26/01/2022</td>\n",
       "      <td>East of England</td>\n",
       "      <td>East of England</td>\n",
       "      <td>Essex</td>\n",
       "      <td>...</td>\n",
       "      <td>www.stiviccareservices.co.uk</td>\n",
       "      <td>Colchester</td>\n",
       "      <td>NaN</td>\n",
       "      <td>CO4 9HB</td>\n",
       "      <td>Essex</td>\n",
       "      <td>East of England</td>\n",
       "      <td>East of England</td>\n",
       "      <td>51.917842</td>\n",
       "      <td>0.931719</td>\n",
       "      <td>Colchester</td>\n",
       "    </tr>\n",
       "    <tr>\n",
       "      <th>18</th>\n",
       "      <td>15/12/2020</td>\n",
       "      <td>Caremark (Arun)</td>\n",
       "      <td>1.243680e+09</td>\n",
       "      <td>Sumner, Kayleigh</td>\n",
       "      <td>www.caremark.co.uk/arun</td>\n",
       "      <td>Good</td>\n",
       "      <td>10/02/2021</td>\n",
       "      <td>South East</td>\n",
       "      <td>South East</td>\n",
       "      <td>West Sussex</td>\n",
       "      <td>...</td>\n",
       "      <td>www.caremark.co.uk/arun</td>\n",
       "      <td>Arundel</td>\n",
       "      <td>NaN</td>\n",
       "      <td>BN18 0DF</td>\n",
       "      <td>West Sussex</td>\n",
       "      <td>South East</td>\n",
       "      <td>South East</td>\n",
       "      <td>50.826114</td>\n",
       "      <td>-0.592174</td>\n",
       "      <td>Bognor Regis and Littlehampton</td>\n",
       "    </tr>\n",
       "    <tr>\n",
       "      <th>22</th>\n",
       "      <td>16/12/2020</td>\n",
       "      <td>Goldtech Care Services Ltd</td>\n",
       "      <td>7.932909e+09</td>\n",
       "      <td>Nantumbwe, Alice</td>\n",
       "      <td>NaN</td>\n",
       "      <td>Good</td>\n",
       "      <td>30/10/2021</td>\n",
       "      <td>London</td>\n",
       "      <td>London</td>\n",
       "      <td>Merton</td>\n",
       "      <td>...</td>\n",
       "      <td>NaN</td>\n",
       "      <td>Morden</td>\n",
       "      <td>Surrey</td>\n",
       "      <td>SM4 6RW</td>\n",
       "      <td>Merton</td>\n",
       "      <td>London</td>\n",
       "      <td>London</td>\n",
       "      <td>51.389005</td>\n",
       "      <td>-0.185155</td>\n",
       "      <td>Mitcham and Morden</td>\n",
       "    </tr>\n",
       "    <tr>\n",
       "      <th>25</th>\n",
       "      <td>10/12/2020</td>\n",
       "      <td>Total Healthcare Limited</td>\n",
       "      <td>1.733794e+09</td>\n",
       "      <td>Makaka, William</td>\n",
       "      <td>NaN</td>\n",
       "      <td>Good</td>\n",
       "      <td>01/06/2022</td>\n",
       "      <td>East of England</td>\n",
       "      <td>East of England</td>\n",
       "      <td>Cambridgeshire</td>\n",
       "      <td>...</td>\n",
       "      <td>www.totalhc.co.uk</td>\n",
       "      <td>Peterborough</td>\n",
       "      <td>NaN</td>\n",
       "      <td>PE7 1AB</td>\n",
       "      <td>Cambridgeshire</td>\n",
       "      <td>East of England</td>\n",
       "      <td>East of England</td>\n",
       "      <td>52.556122</td>\n",
       "      <td>-0.127737</td>\n",
       "      <td>North East Cambridgeshire</td>\n",
       "    </tr>\n",
       "  </tbody>\n",
       "</table>\n",
       "<p>5 rows × 31 columns</p>\n",
       "</div>"
      ],
      "text/plain": [
       "   Location HSCA start date               Location Name  \\\n",
       "2                09/12/2020                Orchids Care   \n",
       "17               09/12/2020    Stivic Care Services Ltd   \n",
       "18               15/12/2020             Caremark (Arun)   \n",
       "22               16/12/2020  Goldtech Care Services Ltd   \n",
       "25               10/12/2020    Total Healthcare Limited   \n",
       "\n",
       "    Location Telephone Number Registered Manager     Location Web Address  \\\n",
       "2                7.738719e+09      Robson, Sarah   www.orchids-care.co.uk   \n",
       "17                        NaN       Odili, Peter                      NaN   \n",
       "18               1.243680e+09   Sumner, Kayleigh  www.caremark.co.uk/arun   \n",
       "22               7.932909e+09   Nantumbwe, Alice                      NaN   \n",
       "25               1.733794e+09    Makaka, William                      NaN   \n",
       "\n",
       "   Location Latest Overall Rating Publication Date           Location Region  \\\n",
       "2                            Good       15/07/2022  Yorkshire and The Humber   \n",
       "17                           Good       26/01/2022           East of England   \n",
       "18                           Good       10/02/2021                South East   \n",
       "22                           Good       30/10/2021                    London   \n",
       "25                           Good       01/06/2022           East of England   \n",
       "\n",
       "         Location NHS Region Location Local Authority  ...  \\\n",
       "2   North East and Yorkshire                Doncaster  ...   \n",
       "17           East of England                    Essex  ...   \n",
       "18                South East              West Sussex  ...   \n",
       "22                    London                   Merton  ...   \n",
       "25           East of England           Cambridgeshire  ...   \n",
       "\n",
       "            Provider Web Address Provider City  Provider County  \\\n",
       "2         www.orchids-care.co.uk     Doncaster  South Yorkshire   \n",
       "17  www.stiviccareservices.co.uk    Colchester              NaN   \n",
       "18       www.caremark.co.uk/arun       Arundel              NaN   \n",
       "22                           NaN        Morden           Surrey   \n",
       "25             www.totalhc.co.uk  Peterborough              NaN   \n",
       "\n",
       "   Provider Postal Code  Provider Local Authority           Provider Region  \\\n",
       "2               DN4 9PE                 Doncaster  Yorkshire and The Humber   \n",
       "17              CO4 9HB                     Essex           East of England   \n",
       "18             BN18 0DF               West Sussex                South East   \n",
       "22              SM4 6RW                    Merton                    London   \n",
       "25              PE7 1AB            Cambridgeshire           East of England   \n",
       "\n",
       "         Provider NHS Region Provider Latitude Provider Longitude  \\\n",
       "2   North East and Yorkshire         53.502269          -1.178813   \n",
       "17           East of England         51.917842           0.931719   \n",
       "18                South East         50.826114          -0.592174   \n",
       "22                    London         51.389005          -0.185155   \n",
       "25           East of England         52.556122          -0.127737   \n",
       "\n",
       "   Provider Parliamentary Constituency  \n",
       "2                           Don Valley  \n",
       "17                          Colchester  \n",
       "18      Bognor Regis and Littlehampton  \n",
       "22                  Mitcham and Morden  \n",
       "25           North East Cambridgeshire  \n",
       "\n",
       "[5 rows x 31 columns]"
      ]
     },
     "execution_count": 70,
     "metadata": {},
     "output_type": "execute_result"
    }
   ],
   "source": [
    "df.head()"
   ]
  },
  {
   "cell_type": "code",
   "execution_count": 71,
   "metadata": {},
   "outputs": [],
   "source": [
    "df = df.reset_index()"
   ]
  },
  {
   "cell_type": "code",
   "execution_count": 72,
   "metadata": {},
   "outputs": [],
   "source": [
    "df = df.drop(columns='index')"
   ]
  },
  {
   "cell_type": "code",
   "execution_count": 73,
   "metadata": {},
   "outputs": [],
   "source": [
    "df.to_csv('CleanCQCdataDOMCARE.csv')"
   ]
  }
 ],
 "metadata": {
  "kernelspec": {
   "display_name": "Python 3",
   "language": "python",
   "name": "python3"
  },
  "language_info": {
   "codemirror_mode": {
    "name": "ipython",
    "version": 3
   },
   "file_extension": ".py",
   "mimetype": "text/x-python",
   "name": "python",
   "nbconvert_exporter": "python",
   "pygments_lexer": "ipython3",
   "version": "3.11.2"
  },
  "orig_nbformat": 4
 },
 "nbformat": 4,
 "nbformat_minor": 2
}
